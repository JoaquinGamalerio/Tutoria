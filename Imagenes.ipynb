{
 "cells": [
  {
   "cell_type": "code",
   "execution_count": null,
   "metadata": {},
   "outputs": [],
   "source": [
    "import pandas as pd\n",
    "import matplotlib.pyplot as plt\n",
    "from astropy.io import ascii\n",
    "from astropy.coordinates import SkyCoord\n",
    "from astropy import units\n",
    "from astroquery.skyview import SkyView\n",
    "import numpy as np\n",
    "from astropy import units as u"
   ]
  },
  {
   "cell_type": "code",
   "execution_count": null,
   "metadata": {},
   "outputs": [],
   "source": [
    "df1=pd.read_csv('galaxias_2.csv')\n",
    "display(df1.head(2))\n",
    "display(df1.shape)"
   ]
  },
  {
   "cell_type": "code",
   "execution_count": null,
   "metadata": {},
   "outputs": [],
   "source": [
    "from math import sqrt\n",
    "from joblib import Parallel, delayed\n",
    "%time\n",
    "Parallel(n_jobs=2)(delayed(sqrt)(i**2) for i in range(10))"
   ]
  },
  {
   "cell_type": "raw",
   "metadata": {},
   "source": [
    "coords_gx = SkyCoord(data.ra.iloc[2], data.dec.iloc[2], unit=(u.deg, u.deg))\n",
    "img = SkyView.get_images(position=coords_gx, survey=['SDSSg', 'SDSSi', 'SDSSr', 'SDSSu', 'SDSSz'])\n",
    "display(len(img))\n",
    "display(img[0].info())\n",
    "display(img[0][0].shape)"
   ]
  },
  {
   "cell_type": "code",
   "execution_count": null,
   "metadata": {},
   "outputs": [],
   "source": [
    "def image_transformation(ra, dec):\n",
    "    coords_gx = SkyCoord(ra, dec, unit=(u.deg, u.deg))\n",
    "    img = SkyView.get_images(position=coords_gx, survey=['SDSSg', 'SDSSi', 'SDSSr', 'SDSSu', 'SDSSz'])\n",
    "    SDSSg = img[0][0].data.flatten()\n",
    "    SDSSi = img[0][0].data.flatten()\n",
    "    SDSSr = img[0][0].data.flatten()\n",
    "    SDSSu = img[0][0].data.flatten()\n",
    "    SDSSz = img[0][0].data.flatten()\n",
    "\n",
    "    result = np.concatenate([SDSSg,SDSSi,SDSSr,SDSSu,SDSSz])\n",
    "\n",
    "    return result"
   ]
  },
  {
   "cell_type": "code",
   "execution_count": null,
   "metadata": {},
   "outputs": [],
   "source": [
    "stack = image_transformation(df1.ra[0], df1.dec[0])\n",
    "%time\n",
    "for index, row in df1.iterrows():\n",
    "    if index>0 and index<100:\n",
    "    print(index)\n",
    "    temp = Parallel(n_jobs=4)(delayed(image_transformation)(row.ra, row.dec)\n",
    "    stack = np.vstack([stack,temp])\n",
    "    df2 = pd.DataFrame(stack)\n",
    "    df2.to_csv('df2.csv')"
   ]
  }
 ],
 "metadata": {
  "kernelspec": {
   "display_name": "Python 3",
   "language": "python",
   "name": "python3"
  },
  "language_info": {
   "codemirror_mode": {
    "name": "ipython",
    "version": 3
   },
   "file_extension": ".py",
   "mimetype": "text/x-python",
   "name": "python",
   "nbconvert_exporter": "python",
   "pygments_lexer": "ipython3",
   "version": "3.8.3"
  }
 },
 "nbformat": 4,
 "nbformat_minor": 4
}
