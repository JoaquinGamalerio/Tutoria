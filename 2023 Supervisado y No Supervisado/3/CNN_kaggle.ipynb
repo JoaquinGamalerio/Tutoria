{
 "cells": [
  {
   "cell_type": "code",
   "execution_count": null,
   "id": "8f247cc1",
   "metadata": {},
   "outputs": [],
   "source": [
    "import pandas as pd\n",
    "import numpy as np\n",
    "import matplotlib.pyplot as plt\n",
    "import seaborn as sns\n",
    "import graphviz\n",
    "\n",
    "from sklearn.preprocessing import StandardScaler, LabelEncoder\n",
    "from sklearn.impute import SimpleImputer\n",
    "from sklearn.model_selection import train_test_split, GridSearchCV, StratifiedKFold\n",
    "from sklearn.metrics import accuracy_score, ConfusionMatrixDisplay, classification_report, confusion_matrix\n",
    "\n",
    "\n",
    "\n",
    "from xgboost import XGBRegressor, XGBRFRegressor, XGBClassifier, XGBRFClassifier\n",
    "from sklearn.ensemble import RandomForestClassifier\n",
    "\n",
    "from sklearn import tree\n",
    "from sklearn.tree import DecisionTreeClassifier\n",
    "from sklearn import ensemble\n",
    "from sklearn import neural_network"
   ]
  },
  {
   "cell_type": "code",
   "execution_count": null,
   "id": "8e0ee69d",
   "metadata": {},
   "outputs": [],
   "source": [
    "neural_network.MLPClassifier?"
   ]
  },
  {
   "cell_type": "code",
   "execution_count": null,
   "id": "f721f0a5",
   "metadata": {},
   "outputs": [],
   "source": [
    "clf = neural_network.MLPClassifier(\n",
    "    solver='lbfgs', #como va a resolver la función de costo\n",
    "    activation= 'logistic',\n",
    "    alpha=1e-1, #termino de regularización\n",
    "    hidden_layer_sizes=(5), #tamaño cantidad de capas\n",
    "    learning_rate='invscaling', #tasa aprendizaje: a que velocidad converge\n",
    "    #learning_rate_init=0.001,\n",
    "    random_state=1,\n",
    "    max_iter=1000, #metodo de parada: 1000 iteraciones\n",
    "    verbose=True) #para que no imprima cada una de las iteraciones"
   ]
  },
  {
   "cell_type": "code",
   "execution_count": null,
   "id": "a2b8bae1",
   "metadata": {},
   "outputs": [],
   "source": [
    "clf.fit(x_train, y_train.ravel()) #para entrenar el modelo. Le paso los datos de entrada y las etiquetas\n",
    "#ravel es para que aplane el vector"
   ]
  },
  {
   "cell_type": "code",
   "execution_count": null,
   "id": "f7406cd3",
   "metadata": {},
   "outputs": [],
   "source": [
    "predictions = clf.predict(x_train)\n",
    "print (f'Accuracy: {accuracy_score(y_train, predictions)*100:.2f}')"
   ]
  },
  {
   "cell_type": "code",
   "execution_count": null,
   "id": "39ca7ed0",
   "metadata": {},
   "outputs": [],
   "source": [
    "predictions = clf.predict(x_test)\n",
    "print(f'Accuracy: {accuracy_score(y_test, predictions)*100:.2f}')"
   ]
  },
  {
   "cell_type": "code",
   "execution_count": null,
   "id": "60cb6ec6",
   "metadata": {},
   "outputs": [],
   "source": [
    "cm = confusion_matrix(y_test, predictions)\n",
    "\n",
    "# Crea una figura para mostrar la matriz de confusión\n",
    "plt.figure(figsize=(8, 6))\n",
    "sns.heatmap(cm, annot=True, fmt='d', cmap='Blues', cbar=False)\n",
    "plt.xlabel('Predicted')\n",
    "plt.ylabel('True')\n",
    "plt.title('Matriz de Confusión')\n",
    "plt.show()"
   ]
  }
 ],
 "metadata": {
  "kernelspec": {
   "display_name": "Python 3 (ipykernel)",
   "language": "python",
   "name": "python3"
  },
  "language_info": {
   "codemirror_mode": {
    "name": "ipython",
    "version": 3
   },
   "file_extension": ".py",
   "mimetype": "text/x-python",
   "name": "python",
   "nbconvert_exporter": "python",
   "pygments_lexer": "ipython3",
   "version": "3.10.12"
  }
 },
 "nbformat": 4,
 "nbformat_minor": 5
}
