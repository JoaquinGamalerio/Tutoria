{
 "cells": [
  {
   "cell_type": "markdown",
   "metadata": {},
   "source": [
    "# <p style=\"text-align:center;\"> No supervizado </p>"
   ]
  },
  {
   "cell_type": "markdown",
   "metadata": {},
   "source": [
    "**Todo ejercicio debe tener un análisis fundamentado en la teoría vista en la materia, dicho análisis sera parte del informe a entregar en pdf**\n",
    "\n",
    "- <span style=\"color:blue\">*Se recomienda hacer uso de las herramientas vistas en los demos de la materia.*</span>\n",
    "\n",
    "- <span style=\"color:red\">**Usar lo hecho en el práctico Análisis Exploratorio y Curación de Datos**.</span>\n"
   ]
  },
  {
   "cell_type": "markdown",
   "metadata": {},
   "source": [
    "**Objetivos:** \n",
    "- Implementar modelos de clustering, variando el número de clusters.\n",
    "- Usar embeddings:  PCA, correlación y t-distributed stochastic neighbor."
   ]
  },
  {
   "cell_type": "markdown",
   "metadata": {},
   "source": [
    "Implementar dos modelos de clustering con y sin embeddings uno de ellos k-means."
   ]
  },
  {
   "cell_type": "markdown",
   "metadata": {},
   "source": [
    "Realizar un análisis de lo obtenido. \n",
    "- Es muy recomendable integrar indicadores de mala calidad como por ejemplo \"hay un cluster muy grande y el resto son muy chicos\", lo cual indica que en el espacio no se distinguen bien grupos separados y hay que usar otro espacio \n",
    "- Evaluar con Silohuette y pureza con algunos datos etiquetados."
   ]
  },
  {
   "cell_type": "markdown",
   "metadata": {},
   "source": [
    "**NOTA:** Es de suma importancia usar el conocimiento del experto en este práctico. "
   ]
  },
  {
   "cell_type": "markdown",
   "metadata": {},
   "source": [
    "**Librerías**"
   ]
  },
  {
   "cell_type": "code",
   "execution_count": null,
   "metadata": {},
   "outputs": [],
   "source": [
    "import numpy as np\n",
    "import matplotlib.pyplot as plt\n",
    "import matplotlib.cm as cm\n",
    "import seaborn as sns\n",
    "import pandas as pd\n",
    " \n",
    "%matplotlib inline"
   ]
  },
  {
   "cell_type": "code",
   "execution_count": null,
   "metadata": {},
   "outputs": [],
   "source": [
    "plt.rcParams['figure.figsize'] = (10.0, 8.0)"
   ]
  },
  {
   "cell_type": "markdown",
   "metadata": {},
   "source": [
    "**Funciones**"
   ]
  },
  {
   "cell_type": "code",
   "execution_count": null,
   "metadata": {},
   "outputs": [],
   "source": [
    "def galaxy_morf(row):\n",
    "    if row[\"elliptical\"]:\n",
    "        return \"E\"\n",
    "    elif row[\"spiral\"]:\n",
    "        return \"S\"\n",
    "    else:\n",
    "        return \"I\"\n",
    "    \n",
    "def distribution_per_type(df, col_name=\"\", bins=20):\n",
    "    #]plt.title(f\"{col_name.capitalize()} Distribution\")\n",
    "    sns.distplot(df[df[\"elliptical\"] == 1][col_name],label=\"elliptical\", bins=bins)\n",
    "    sns.distplot(df[df[\"spiral\"] == 1][col_name],label=\"spiral\", bins=bins)\n",
    "    sns.distplot(df[df[\"uncertain\"] == 1][col_name],label=\"irregular\", bins=bins)\n",
    "    plt.legend()\n",
    "    \n",
    "def exploratory_plots(df, col_name=\"\"):\n",
    "    plt.subplot(3, 1, 1)\n",
    "    distribution_per_type(df, col_name)\n",
    "    plt.subplot(3, 1, 2)\n",
    "    #plt.title(f\"{col_name.capitalize()} Boxplot\")\n",
    "    sns.boxplot(x=\"type\", y=col_name, data=df, **box_params)\n",
    "    plt.subplot(3, 1, 3)\n",
    "   # plt.title(f\"{col_name.capitalize()} Boxplot w/o Outliers\")\n",
    "    sns.boxplot(x=\"type\", y=col_name, data=df, showfliers=False, **box_params)\n",
    "    \n",
    "    plt.tight_layout()\n",
    "    \n",
    "def num_type(row):\n",
    "    if row[\"type\"] == \"I\":\n",
    "        return 1\n",
    "    elif row[\"type\"] == \"S\":\n",
    "        return 2\n",
    "    else:\n",
    "        return 3"
   ]
  },
  {
   "cell_type": "markdown",
   "metadata": {},
   "source": [
    "**Load**"
   ]
  },
  {
   "cell_type": "code",
   "execution_count": null,
   "metadata": {},
   "outputs": [],
   "source": [
    "data = pd.read_csv('galaxias_1.csv')\n",
    "display(data.head(2))\n",
    "display (data.shape)\n",
    "data.describe()"
   ]
  },
  {
   "cell_type": "markdown",
   "metadata": {},
   "source": [
    "**Valores faltantes y Tipo de los Features**"
   ]
  },
  {
   "cell_type": "code",
   "execution_count": null,
   "metadata": {},
   "outputs": [],
   "source": [
    "display(data.info())\n",
    "sns.heatmap(data.isna(), yticklabels=False)"
   ]
  },
  {
   "cell_type": "markdown",
   "metadata": {},
   "source": [
    "**Eliminación de Valores Duplicados**\n"
   ]
  },
  {
   "cell_type": "code",
   "execution_count": null,
   "metadata": {},
   "outputs": [],
   "source": [
    "data.set_index(\"objID\", inplace=True)\n",
    "data[data.astype(str).duplicated()].shape\n",
    "data[data.index.astype(str).duplicated()].shape[0]\n",
    "data_cl = data.loc[~(data.index.astype(str).duplicated(keep=\"first\"))].copy()"
   ]
  },
  {
   "cell_type": "code",
   "execution_count": null,
   "metadata": {},
   "outputs": [],
   "source": [
    "display(data_cl.shape)\n",
    "display(data_cl.head())"
   ]
  },
  {
   "cell_type": "markdown",
   "metadata": {},
   "source": [
    "**Distribución de Clases**"
   ]
  },
  {
   "cell_type": "code",
   "execution_count": null,
   "metadata": {},
   "outputs": [],
   "source": [
    "data_cl[\"type\"] = data_cl.apply(galaxy_morf, axis=1)\n",
    "sns.countplot(data_cl[\"type\"], order=[\"I\", \"S\", \"E\"])"
   ]
  },
  {
   "cell_type": "markdown",
   "metadata": {},
   "source": [
    "**Eliminación de valores que carecen de sentido físico**"
   ]
  },
  {
   "cell_type": "code",
   "execution_count": null,
   "metadata": {},
   "outputs": [],
   "source": [
    "mask_color = (data_cl[\"Color\"] < 0) & (data_cl[\"Color\"]>-5)\n",
    "data_cl_color = data_cl[mask_color]\n",
    "\n",
    "mask_petro = data_cl[\"petroR90_r\"]<40\n",
    "data_cl_petro = data_cl[mask_petro]\n",
    "\n",
    "mask_mag = ((abs(data_cl[\"modelMag_u\"]) < 30) & \n",
    "    (abs(data_cl[\"modelMag_g\"] < 30)) & \n",
    "    (abs(data_cl[\"modelMag_r\"] < 30)) & \n",
    "    (abs(data_cl[\"modelMag_i\"] < 30)) & \n",
    "    (abs(data_cl[\"modelMag_z\"] < 30))) \n",
    "data_cl_mag = data_cl[mask_mag]\n",
    "\n",
    "mask_no_outl = mask_color & mask_petro & mask_mag\n",
    "data_cl_no_outl = data_cl[mask_no_outl].copy()\n",
    "print(data_cl.shape)\n",
    "print(data_cl_no_outl.shape)\n",
    "print(data_cl_no_outl.shape[0]/data_cl.shape[0]*100)\n",
    "\n",
    "\n",
    "del data_cl_color\n",
    "del data_cl_mag\n",
    "del data_cl_petro"
   ]
  },
  {
   "cell_type": "markdown",
   "metadata": {},
   "source": [
    "**Variable Númerica**"
   ]
  },
  {
   "cell_type": "code",
   "execution_count": null,
   "metadata": {},
   "outputs": [],
   "source": [
    "diplomatura2021data_cl_no_outl[\"type_n\"] = data_cl_no_outl.apply(num_type, axis=1)\n",
    "data_cl[\"type_n\"] = data_cl.apply(num_type,axis=1)"
   ]
  },
  {
   "cell_type": "code",
   "execution_count": null,
   "metadata": {},
   "outputs": [],
   "source": []
  },
  {
   "cell_type": "code",
   "execution_count": null,
   "metadata": {},
   "outputs": [],
   "source": []
  },
  {
   "cell_type": "code",
   "execution_count": null,
   "metadata": {},
   "outputs": [],
   "source": []
  },
  {
   "cell_type": "markdown",
   "metadata": {},
   "source": [
    "# Clustering"
   ]
  },
  {
   "cell_type": "code",
   "execution_count": null,
   "metadata": {},
   "outputs": [],
   "source": [
    "from sklearn.cluster import DBSCAN, KMeans, MeanShift\n",
    "from sklearn.mixture import GaussianMixture\n",
    "from sklearn.metrics import silhouette_samples, silhouette_score\n",
    "from sklearn.preprocessing import StandardScaler"
   ]
  },
  {
   "cell_type": "markdown",
   "metadata": {},
   "source": [
    "## Muestra Estratificada"
   ]
  },
  {
   "cell_type": "code",
   "execution_count": null,
   "metadata": {},
   "outputs": [],
   "source": [
    "from sklearn.model_selection import StratifiedShuffleSplit"
   ]
  },
  {
   "cell_type": "code",
   "execution_count": null,
   "metadata": {},
   "outputs": [],
   "source": [
    "sss = StratifiedShuffleSplit(n_splits=1, test_size=0.2, random_state=2411)"
   ]
  },
  {
   "cell_type": "code",
   "execution_count": null,
   "metadata": {},
   "outputs": [],
   "source": [
    "for train_idx, test_idx in sss.split(data_cl_no_outl, data_cl_no_outl[\"type_n\"]):\n",
    "    #strat_train_set = data_cl_no_outl.loc[train_idx]\n",
    "    strat_test_set  = data_cl_no_outl.iloc[test_idx]"
   ]
  },
  {
   "cell_type": "markdown",
   "metadata": {},
   "source": [
    "diplomatura2021## Análisis sin variables de ubicación y tipo"
   ]
  },
  {
   "cell_type": "code",
   "execution_count": null,
   "metadata": {},
   "outputs": [],
   "source": [
    "pos_cols  = [\"ra\", \"dec\", \"z\"]\n",
    "type_cols = ['elliptical', 'spiral', 'uncertain', 'type', 'type_n']\n",
    "data_clus_pos = strat_test_set.drop(type_cols, axis=1)\n",
    "data_clus_pos = StandardScaler().fit_transform(data_clus_pos)\n",
    "data_clus     = strat_test_set.drop(type_cols + pos_cols, axis=1)\n",
    "data_clus_cols = data_clus.columns\n",
    "data_clus     = pd.DataFrame(data=StandardScaler().fit_transform(data_clus), \n",
    "                             columns=data_clus_cols)\n",
    "\n",
    "data_clus_cols"
   ]
  },
  {
   "cell_type": "code",
   "execution_count": null,
   "metadata": {},
   "outputs": [],
   "source": [
    "def plot_silouette(silhouette_values, cluster_labels, silhouette_avg, \n",
    "                   title=\"Visualizacion de los datos\"):\n",
    "    fig, ax1 = plt.subplots(1, 1)\n",
    "    y_lower = 10\n",
    "    n_clusters = len(np.unique(cluster_labels))\n",
    "    for i in np.unique(cluster_labels):\n",
    "        # Aggregate the silhouette scores for samples belonging to\n",
    "        # cluster i, and sort them\n",
    "        ith_cluster_silhouette_values = silhouette_values[cluster_labels == i]\n",
    "        ith_cluster_silhouette_values.sort()\n",
    "        size_cluster_i = ith_cluster_silhouette_values.shape[0]\n",
    "        y_upper = y_lower + size_cluster_i\n",
    "        color   = cm.nipy_spectral(float(i) / n_clusters)\n",
    "        ax1.fill_betweenx(np.arange(y_lower, y_upper),\n",
    "                          0, ith_cluster_silhouette_values,\n",
    "                          facecolor=color, edgecolor=color, alpha=0.7)\n",
    "\n",
    "        # Label the silhouette plots with their cluster numbers at the middle\n",
    "        ax1.text(-0.05, y_lower + 0.5 * size_cluster_i, str(i))\n",
    "\n",
    "        # Compute the new y_lower for next plot\n",
    "        y_lower = y_upper + 10  # 10 for the 0 samples\n",
    "\n",
    "    ax1.set_title(title)\n",
    "    # ax1.set_xlabel(\"espacio de la primera caracteristica\")\n",
    "    # ax1.set_ylabel(\"espacio de la segunda caracteristica\")\n",
    "\n",
    "    # The vertical line for average silhouette score of all the values\n",
    "    ax1.axvline(x=silhouette_avg, color=\"red\", linestyle=\"--\")\n",
    "\n",
    "    ax1.set_yticks([])  # Clear the yaxis labels / ticks\n",
    "    ax1.set_xticks([-0.1, 0, 0.2, 0.4, 0.6, 0.8, 1])\n",
    "    plt.show()"
   ]
  },
  {
   "cell_type": "markdown",
   "metadata": {},
   "source": [
    "diplomatura2021### K-Means"
   ]
  },
  {
   "cell_type": "code",
   "execution_count": null,
   "metadata": {},
   "outputs": [],
   "source": [
    "range_n_clusters = [2, 3, 4, 5, 6]\n",
    "def serch_k_optimus(data_clus, range_n_clusters):\n",
    "    sse = {}\n",
    "    for n_clusters in range_n_clusters:\n",
    "        clusterer = KMeans(n_clusters=n_clusters, random_state=10)\n",
    "        # \"Start fitting\"\n",
    "        cluster_labels = clusterer.fit_predict(data_clus)\n",
    "        # \"Stop fitting\"\n",
    "        sse[n_clusters] = clusterer.inertia_\n",
    "\n",
    "        # The silhouette_score gives the average value for all the samples.\n",
    "        # This gives a perspective into the density and separation of the formed\n",
    "        # clusters\n",
    "        silhouette_avg = silhouette_score(data_clus, cluster_labels, random_state=352)\n",
    "        print(\"Para n_clusters =\", n_clusters,\n",
    "              \"El silhouette_score promedio es :\", silhouette_avg)\n",
    "\n",
    "        # Compute the silhouette scores for each sample\n",
    "        sample_silhouette_values = silhouette_samples(data_clus, cluster_labels)\n",
    "\n",
    "        plot_silouette(sample_silhouette_values, cluster_labels,\n",
    "                       silhouette_avg, title=\"k={}\".format(n_clusters))\n",
    "    return sse\n"
   ]
  },
  {
   "cell_type": "code",
   "execution_count": null,
   "metadata": {},
   "outputs": [],
   "source": [
    "sse = serch_k_optimus(data_clus, range_n_clusters)"
   ]
  },
  {
   "cell_type": "code",
   "execution_count": null,
   "metadata": {},
   "outputs": [],
   "source": [
    "fig, ax1 = plt.subplots(1, 1)\n",
    "fig.set_size_inches(18, 7)\n",
    "plt.suptitle((\"Metodo del codo para kmedias \"),\n",
    "                 fontsize=14, fontweight='bold')\n",
    "ax1.plot(list(sse.keys()), list(sse.values()))\n",
    "ax1.set_xlabel(\"Numero of cluster\")\n",
    "ax1.set_ylabel(\"Inercia\")\n",
    "plt.grid()"
   ]
  },
  {
   "cell_type": "markdown",
   "metadata": {},
   "source": [
    "<span style=\"color:red\">**Responda:**</span>\n",
    "\n",
    "<span style=\"color:red\">**Qué pueden decir en general de las siluetas para cada k?**</span>  \n",
    "\n",
    "<span style=\"color:red\">**Qué  pueden decir acarca del score cuando incrementa el número de clusters?**</span> \n",
    "\n",
    "\n",
    "\n",
    "<span style=\"color:red\">**Según el método del codo más el análisis de las siluetas, que número de clusters es el mejor?**</span> "
   ]
  },
  {
   "cell_type": "code",
   "execution_count": null,
   "metadata": {},
   "outputs": [],
   "source": []
  },
  {
   "cell_type": "code",
   "execution_count": null,
   "metadata": {},
   "outputs": [],
   "source": []
  },
  {
   "cell_type": "markdown",
   "metadata": {},
   "source": [
    "### DBScan\n",
    "\n",
    "DBSCAN nos devuelve una etiqueta -1 para las muestras rudiosas. Por lo tanto, si tenemos un clustering con mucha de esas muestras lo descartamos"
   ]
  },
  {
   "cell_type": "code",
   "execution_count": null,
   "metadata": {},
   "outputs": [],
   "source": [
    "from itertools import product"
   ]
  },
  {
   "cell_type": "code",
   "execution_count": null,
   "metadata": {},
   "outputs": [],
   "source": [
    "n_min_samples = [2, 3, 4]\n",
    "n_eps         = [0.2, 0.25, 0.3, 0.35]\n",
    "noise_ratio_limit = 0.47\n",
    "def search_dbscan_optimus(data_clus, n_min_samples, n_eps, noise_ratio_limit):\n",
    "    for min_samples, eps in product(n_min_samples, n_eps):\n",
    "        print(\"*\"*80)\n",
    "        print(\"min_samples={} y eps={}\".format(min_samples, eps))\n",
    "        print(\"*\"*80)\n",
    "        dbscan_clusters = DBSCAN(eps=eps, min_samples=min_samples)\n",
    "        print(\"Start fitting\")\n",
    "        cluster_labels = dbscan_clusters.fit_predict(data_clus, )\n",
    "        print(\"Stop fitting\")\n",
    "        noise_samples_ratio = sum(cluster_labels == -1) / len(cluster_labels)\n",
    "\n",
    "        # The silhouette_score gives the average value for all the samples.\n",
    "        # This gives a perspective into the density and separation of the formed\n",
    "        # clusters\n",
    "        if len(np.unique(cluster_labels)) > 1 and noise_samples_ratio<noise_ratio_limit:\n",
    "            silhouette_avg = silhouette_score(data_clus, cluster_labels,\n",
    "                                              random_state=352)\n",
    "            print(\"El silhouette_score promedio es :\", silhouette_avg)\n",
    "\n",
    "            # Compute the silhouette scores for each sample\n",
    "            sample_silhouette_values = silhouette_samples(data_clus, \n",
    "                                                          cluster_labels)\n",
    "\n",
    "            plot_silouette(sample_silhouette_values, cluster_labels,\n",
    "                           silhouette_avg, title=\"{}-{}\".format(eps, min_samples))\n",
    "        elif len(np.unique(cluster_labels)) == 1:\n",
    "            print(\"Solo 1 cluster identificado\")\n",
    "        elif noise_samples_ratio>=noise_ratio_limit:\n",
    "            print(\"El cluster ruido es muy grande: {}\".format(noise_samples_ratio))"
   ]
  },
  {
   "cell_type": "code",
   "execution_count": null,
   "metadata": {},
   "outputs": [],
   "source": [
    "search_dbscan_optimus(data_clus, n_min_samples, n_eps, noise_ratio_limit)"
   ]
  },
  {
   "cell_type": "code",
   "execution_count": null,
   "metadata": {},
   "outputs": [],
   "source": []
  },
  {
   "cell_type": "code",
   "execution_count": null,
   "metadata": {},
   "outputs": [],
   "source": []
  },
  {
   "cell_type": "markdown",
   "metadata": {},
   "source": [
    "### Gaussian Mixtures"
   ]
  },
  {
   "cell_type": "code",
   "execution_count": null,
   "metadata": {},
   "outputs": [],
   "source": [
    "range_n_clusters = [2, 3, 4, 5, 6, 7, 8, 9, 10]\n",
    "\n",
    "def serch_gauss_optimus(data_clus, range_n_clusters):\n",
    "    sse ={}\n",
    "    for n_clusters in range_n_clusters:\n",
    "        clusterer = GaussianMixture(n_components=n_clusters, random_state=10)\n",
    "        print(\"Start fitting\")\n",
    "        cluster_labels = clusterer.fit_predict(data_clus)\n",
    "        print(\"Stop fitting\")\n",
    "        #sse[n_clusters] = clusterer.inertia_\n",
    "\n",
    "        # The silhouette_score gives the average value for all the samples.\n",
    "        # This gives a perspective into the density and separation of the formed\n",
    "        # clusters\n",
    "        silhouette_avg = silhouette_score(data_clus, cluster_labels, random_state=352)\n",
    "        print(\"Para n_clusters =\", n_clusters,\n",
    "              \"El silhouette_score promedio es :\", silhouette_avg)\n",
    "\n",
    "        # Compute the silhouette scores for each sample\n",
    "        sample_silhouette_values = silhouette_samples(data_clus, cluster_labels)\n",
    "\n",
    "        plot_silouette(sample_silhouette_values, cluster_labels,\n",
    "                       silhouette_avg, title=\"k={}\".format(n_clusters))\n",
    "    return sse\n"
   ]
  },
  {
   "cell_type": "code",
   "execution_count": null,
   "metadata": {},
   "outputs": [],
   "source": []
  },
  {
   "cell_type": "code",
   "execution_count": null,
   "metadata": {},
   "outputs": [],
   "source": []
  },
  {
   "cell_type": "markdown",
   "metadata": {},
   "source": [
    "### Mean Shift"
   ]
  },
  {
   "cell_type": "code",
   "execution_count": null,
   "metadata": {},
   "outputs": [],
   "source": [
    "def serch_ms_optimus(data_clus, bandwidth):\n",
    "    sse ={}\n",
    "    for bw in bandwidth:\n",
    "        clusterer = MeanShift(bandwidth=bw, bin_seeding=True)\n",
    "        print(\"Start fitting\")\n",
    "        cluster_labels = clusterer.fit_predict(data_clus)\n",
    "        print(\"Stop fitting\")\n",
    "        #sse[n_clusters] = clusterer.inertia_\n",
    "\n",
    "        # The silhouette_score gives the average value for all the samples.\n",
    "        # This gives a perspective into the density and separation of the formed\n",
    "        # clusters\n",
    "        silhouette_avg = silhouette_score(data_clus, cluster_labels, random_state=352)\n",
    "        print(\"Para bamdwith =\", bw,\n",
    "              \"El silhouette_score promedio es :\", silhouette_avg)\n",
    "\n",
    "        # Compute the silhouette scores for each sample\n",
    "        sample_silhouette_values = silhouette_samples(data_clus, cluster_labels)\n",
    "\n",
    "        plot_silouette(sample_silhouette_values, cluster_labels,\n",
    "                       silhouette_avg, title=\"bw={}\".format(bw))\n",
    "    return sse\n"
   ]
  },
  {
   "cell_type": "markdown",
   "metadata": {},
   "source": [
    "<span style=\"color:red\">**Responda:**</span>\n",
    "\n",
    "<span style=\"color:red\">**Qué pueden decir en general de las siluetas en los métodos DBScan, Gaussian Mixtures y Mean shift**</span>  "
   ]
  },
  {
   "cell_type": "code",
   "execution_count": null,
   "metadata": {},
   "outputs": [],
   "source": []
  },
  {
   "cell_type": "markdown",
   "metadata": {},
   "source": [
    "## Visualizacion segun cluster label"
   ]
  },
  {
   "cell_type": "code",
   "execution_count": null,
   "metadata": {},
   "outputs": [],
   "source": [
    "def distribution_per_label(df, col_name=\"\", bins=20):\n",
    "    plt.title('col_name.capitalize()} Distribution')\n",
    "    for kk in df[\"cluster_label\"].unique():\n",
    "        sns.distplot(df[df[\"cluster_label\"] == kk][col_name],label='cluster_label={kk}', \n",
    "                     bins=bins)\n",
    "    plt.legend()\n",
    "    \n",
    "def exploratory_plots_label(df, col_name=\"\"):\n",
    "    plt.subplot(2, 1, 1)\n",
    "    distribution_per_label(df, col_name)\n",
    "    plt.subplot(2, 1, 2)\n",
    "    #plt.title(f\"{col_name.capitalize()} Boxplot w/o Outliers\")\n",
    "    sns.boxplot(x=\"cluster_label\", y=col_name, data=df, showfliers=False, **box_params)\n",
    "    \n",
    "    plt.tight_layout()"
   ]
  },
  {
   "cell_type": "markdown",
   "metadata": {},
   "source": [
    "\n",
    "<span style=\"color:red\">**Elijan dos modelos que para ustedes tienen los mejores resultados y visalicen sus propiedades según el cluster label.**</span>  "
   ]
  },
  {
   "cell_type": "markdown",
   "metadata": {},
   "source": [
    "**ayuda**"
   ]
  },
  {
   "cell_type": "code",
   "execution_count": null,
   "metadata": {},
   "outputs": [],
   "source": [
    "cluster_1 = MODELO1()\n",
    "cluster_labels_1 = cluster_1.fit_predict(data_clus)\n",
    "\n",
    "cluster_2 = MODELO2()\n",
    "cluster_labels_2 = cluster_2.fit_predict(data_clus)"
   ]
  },
  {
   "cell_type": "code",
   "execution_count": null,
   "metadata": {},
   "outputs": [],
   "source": [
    "data_clus_1 = data_clus.copy()\n",
    "data_clus_2 = data_clus.copy()\n",
    "data_clus_1[\"cluster_label\"] = cluster_labels_1\n",
    "data_clus_2[\"cluster_label\"] = cluster_labels_2"
   ]
  },
  {
   "cell_type": "code",
   "execution_count": null,
   "metadata": {},
   "outputs": [],
   "source": []
  },
  {
   "cell_type": "markdown",
   "metadata": {},
   "source": [
    "### Color"
   ]
  },
  {
   "cell_type": "code",
   "execution_count": null,
   "metadata": {},
   "outputs": [],
   "source": [
    "exploratory_plots_label(data_clus_1, \"color\")\n",
    "exploratory_plots_label(data_clus_2, \"color\")"
   ]
  },
  {
   "cell_type": "markdown",
   "metadata": {},
   "source": [
    "### Petro R90"
   ]
  },
  {
   "cell_type": "code",
   "execution_count": null,
   "metadata": {},
   "outputs": [],
   "source": [
    "exploratory_plots_label(data_clus_1, \"petroR90_r\")\n",
    "exploratory_plots_label(data_clus_2, \"petroR90_r\")"
   ]
  },
  {
   "cell_type": "markdown",
   "metadata": {},
   "source": [
    "### Mag Distributions"
   ]
  },
  {
   "cell_type": "code",
   "execution_count": null,
   "metadata": {},
   "outputs": [],
   "source": [
    "for mag in ['modelMag_u', 'modelMag_g', 'modelMag_r', 'modelMag_i','modelMag_z']:\n",
    "    plt.figure()\n",
    "    exploratory_plots_label(data_clus_1, mag)"
   ]
  },
  {
   "cell_type": "code",
   "execution_count": null,
   "metadata": {},
   "outputs": [],
   "source": [
    "for mag in ['modelMag_u', 'modelMag_g', 'modelMag_r', 'modelMag_i','modelMag_z']:\n",
    "    plt.figure()\n",
    "    exploratory_plots_label(data_clus_2, mag)"
   ]
  },
  {
   "cell_type": "markdown",
   "metadata": {},
   "source": [
    "<span style=\"color:red\">**A qué conclusiones llegan?**</span>  "
   ]
  },
  {
   "cell_type": "code",
   "execution_count": null,
   "metadata": {},
   "outputs": [],
   "source": []
  },
  {
   "cell_type": "markdown",
   "metadata": {},
   "source": [
    "<span style=\"color:red\">**Escojan un modelo y apliquen los siguientes embeddings**</span> "
   ]
  },
  {
   "cell_type": "code",
   "execution_count": null,
   "metadata": {},
   "outputs": [],
   "source": [
    "data_clus_N = "
   ]
  },
  {
   "cell_type": "markdown",
   "metadata": {},
   "source": [
    "# Embeddings"
   ]
  },
  {
   "cell_type": "code",
   "execution_count": null,
   "metadata": {},
   "outputs": [],
   "source": [
    "from sklearn.decomposition import PCA\n",
    "from sklearn.manifold import TSNE"
   ]
  },
  {
   "cell_type": "code",
   "execution_count": null,
   "metadata": {},
   "outputs": [],
   "source": [
    "def print_title(title=\"\", delimiter=\"*\"):\n",
    "    print(delimiter*80)\n",
    "    print(title)\n",
    "    print(delimiter*80)"
   ]
  },
  {
   "cell_type": "code",
   "execution_count": null,
   "metadata": {},
   "outputs": [],
   "source": [
    "def plot_2d(pca, df, colname=\"\"):\n",
    "    from mpl_toolkits.mplot3d import Axes3D \n",
    "    fig = plt.figure(figsize=(15,10))\n",
    "    ax = fig.add_subplot(1,1,1)\n",
    "    im = ax.scatter(pca[:,0],pca[:,1],\n",
    "                    c=df[colname],cmap=plt.get_cmap(\"jet\"),\n",
    "                    alpha=0.5)\n",
    "    ax.set_xlabel(\"Axis 1\")\n",
    "    ax.set_ylabel(\"Axis 2\")\n",
    "    fig.colorbar(im, ax=ax)"
   ]
  },
  {
   "cell_type": "code",
   "execution_count": null,
   "metadata": {},
   "outputs": [],
   "source": [
    "def plot_3d(pca, df, colname=\"\"):\n",
    "    from mpl_toolkits.mplot3d import Axes3D \n",
    "    fig = plt.figure(figsize=(15,10))\n",
    "    for idx in range(1,5):\n",
    "        ax = fig.add_subplot(2,2,idx, projection='3d')\n",
    "        im = ax.scatter(pca[:,0],pca[:,1],pca[:,2], \n",
    "               c=df[colname],cmap=plt.get_cmap(\"jet\"),\n",
    "              alpha=0.5)\n",
    "        ax.view_init(30, 45+90*idx)\n",
    "        ax.set_xlabel(\"Axis 1\")\n",
    "        ax.set_ylabel(\"Axis 2\")\n",
    "        ax.set_zlabel(\"Axis 3\")\n",
    "        fig.colorbar(im, ax=ax)"
   ]
  },
  {
   "cell_type": "code",
   "execution_count": null,
   "metadata": {},
   "outputs": [],
   "source": []
  },
  {
   "cell_type": "markdown",
   "metadata": {},
   "source": [
    "## PCA"
   ]
  },
  {
   "cell_type": "code",
   "execution_count": null,
   "metadata": {},
   "outputs": [],
   "source": [
    "pca_3dim = PCA(n_components=3)\n",
    "pca_2dim = PCA(n_components=2)\n",
    "\n",
    "\n",
    "pca_std_3d = pca_3dim.fit_transform(data_clus_N)\n",
    "pca_std_2d = pca_2dim.fit_transform(data_clus_N)\n"
   ]
  },
  {
   "cell_type": "code",
   "execution_count": null,
   "metadata": {},
   "outputs": [],
   "source": [
    "print_title(\"3D\")\n",
    "print(\"nombre_modelo\", pca_3dim.explained_variance_ratio_, sum(pca_3dim.explained_variance_ratio_))\n",
    "print_title(\"2D\")\n",
    "print(\"nombre_modelo\", pca_2dim.explained_variance_ratio_, sum(pca_2dim.explained_variance_ratio_))\n"
   ]
  },
  {
   "cell_type": "code",
   "execution_count": null,
   "metadata": {},
   "outputs": [],
   "source": [
    "axis_components = pd.DataFrame(index=data_clus_N.columns, columns=[\"Ax1\", \"Ax2\", \"Ax3\"], \n",
    "                                  data=pca_3dim.components_.T)"
   ]
  },
  {
   "cell_type": "code",
   "execution_count": null,
   "metadata": {},
   "outputs": [],
   "source": [
    "plot_3d(pca_std_3d, data_clus_N, \"cluster_label\")"
   ]
  },
  {
   "cell_type": "code",
   "execution_count": null,
   "metadata": {},
   "outputs": [],
   "source": [
    "plot_3d(pca_std_2d, data_clus_N, \"cluster_label\")"
   ]
  },
  {
   "cell_type": "code",
   "execution_count": null,
   "metadata": {},
   "outputs": [],
   "source": []
  },
  {
   "cell_type": "markdown",
   "metadata": {},
   "source": [
    "## TSNE"
   ]
  },
  {
   "cell_type": "code",
   "execution_count": null,
   "metadata": {},
   "outputs": [],
   "source": [
    "tsne_2dim = TSNE(n_components=2, )\n",
    "tsne_std = tsne_2dim.fit_transform(data_clus_N)"
   ]
  },
  {
   "cell_type": "code",
   "execution_count": null,
   "metadata": {},
   "outputs": [],
   "source": [
    "plot_2d(tsne_std, data_clus_N, \"cluster_label\")"
   ]
  },
  {
   "cell_type": "markdown",
   "metadata": {},
   "source": [
    "<span style=\"color:red\">**A qué conclusiones llegan?**</span>  "
   ]
  },
  {
   "cell_type": "code",
   "execution_count": null,
   "metadata": {},
   "outputs": [],
   "source": []
  },
  {
   "cell_type": "code",
   "execution_count": null,
   "metadata": {},
   "outputs": [],
   "source": []
  },
  {
   "cell_type": "markdown",
   "metadata": {},
   "source": [
    "## Images"
   ]
  },
  {
   "cell_type": "markdown",
   "metadata": {},
   "source": [
    "<span style=\"color:red\">**Elijan un modelo y apiquelo en las imágenes más un embedding, analicen**</span>  "
   ]
  },
  {
   "cell_type": "markdown",
   "metadata": {},
   "source": [
    "**OPCIONAL**"
   ]
  },
  {
   "cell_type": "markdown",
   "metadata": {},
   "source": [
    "<span style=\"color:red\">**Realizar selección de features en imágenes usando Información Mutua/Chi-cuadrado**</span>  "
   ]
  },
  {
   "cell_type": "code",
   "execution_count": null,
   "metadata": {},
   "outputs": [],
   "source": []
  }
 ],
 "metadata": {
  "kernelspec": {
   "display_name": "Python 3",
   "language": "python",
   "name": "python3"
  },
  "language_info": {
   "codemirror_mode": {
    "name": "ipython",
    "version": 3
   },
   "file_extension": ".py",
   "mimetype": "text/x-python",
   "name": "python",
   "nbconvert_exporter": "python",
   "pygments_lexer": "ipython3",
   "version": "3.8.3"
  }
 },
 "nbformat": 4,
 "nbformat_minor": 4
}
